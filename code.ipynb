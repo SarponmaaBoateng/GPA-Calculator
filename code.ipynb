
# GRADING SYSTEM USING FUNCTIONS...output results in a tabular form
import pandas as pd

#function for assigning grades to a score
def get_grade (score):
    if (score >= 85):
        grade = 'A+'
    elif (score >= 80):
        grade = 'A'
    elif (score >= 75):
        grade = 'B+'
    elif (score >= 70):
        grade = 'B'
    elif (score >= 65):
        grade = 'C+'
    elif (score >= 60):
        grade = 'C'
    elif (score >= 55):
        grade = 'D+'
    elif (score >= 50) :
        grade = 'D'
    else:
        grade = 'F'
    return grade

#function for assigning grade points to a score
def get_grade_point(score):
    if (score >= 85):
        grade_point = 4
    elif (score >= 80):
        grade_point = 3.5
    elif (score >= 75):
        grade_point = 3
    elif (score >= 70):
        grade_point = 2.5
    elif (score >= 65):
        grade_point = 2
    elif (score >= 60):
        grade_point = 1.5
    elif (score >= 55):
        grade_point = 1
    elif (score >= 50) :
        grade_point = 0.5
    else:
        grade_point = 0
    return grade_point

#function for calculating the GPA
def GPA_calculator(grade_points, credit_hour):
    numerator = 0
    for i in range(len(grade_points)):
        numerator += grade_points[i] * credit_hour[i]
    gpa = numerator / sum(credit_hour)
    return round(gpa,2)


# MAIN CODE
num_course = int(input(f'WELCOME TO GI-KAE STUDENT GRADING PORTAL\nHow many courses do want to calculate their GPA?: ')) # accepts number of courses

course_name = []
score_list = []
grading = []
grade_point = []
credit_hour_list = []

for i in range(num_course):
    course = input(f'Enter the name for course {i+1}: ')
    
    #getting the scores 
    while True:
        try:
            score = float(input(f'What did you get in {course}: '))
            if score >= 0 and score <=100: #ckecks for a non-negative and valid score range
                break #breaks out of the loop
            else:
                print(f'Please try again ({score} is not a valid)')
        except ValueError:
            print(f'Value error, please enter a number')
    
    course_name.append(course)
    score_list.append(int(score))
    grading.append(get_grade(score))
    grade_point.append(get_grade_point(score))
     
    # getting the credit hour
    while True:
        try:
            credit_hour = int(input(f'What is the credit hours for {course}: '))
            if credit_hour >=1 and credit_hour <=20:   #assuming 20 is the highest credit hours in our institution
                credit_hour_list.append(credit_hour)
                break  #breaks out of the loop
            else:
                print(f'{credit_hour} is not valid...It should in this list [1, 2, 3,...,20]')
        except ValueError:
            print(f'Value error, please try again...')

            
# Calculation of GPA
gpa = GPA_calculator(grade_point, credit_hour_list)

#adding the GPA to the lists to form a table
course_name.extend([' ', ' '])
grading.extend([' ', 'GPA'])
score_list.extend([' ', ' ']) # all arrays must be of the same length
credit_hour_list.extend([' ', gpa])

# Forming a dataframe
df = pd.DataFrame()
df['COURSES'] = course_name
df['SCORE'] = score_list
df['GRADE'] = grading
df['CREDIT HOUR'] = credit_hour_list
display(df)
COURSES	SCORE	GRADE	CREDIT HOUR
0	python	98	A+	2
1	java	76	B+	2
2				
3			CGPA	3.5
 
